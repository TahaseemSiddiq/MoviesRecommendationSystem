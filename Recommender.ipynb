{
 "cells": [
  {
   "cell_type": "code",
   "execution_count": 1,
   "metadata": {},
   "outputs": [
    {
     "name": "stdout",
     "output_type": "stream",
     "text": [
      "                 Movie Name    Year                        Genre   Language\n",
      "0       Manam Kothi Paravai  2012.0  Comedy, Romance                  tamil\n",
      "1  Jaana Na Dil Se Door....  2001.0           Family                  hindi\n",
      "2                Saraswathi  1970.0            Drama              malayalam\n",
      "3           Garib Ki Duniya  1934.0            Drama                  hindi\n",
      "4                 Rooplekha  1962.0            Drama                  hindi\n"
     ]
    }
   ],
   "source": [
    "import pandas as pd\n",
    "\n",
    "# Load the dataset\n",
    "df = pd.read_csv('cleaned_movies_data.csv')\n",
    "\n",
    "# Determine how many rows to take from each (Genre, Language) group\n",
    "total_rows = 30000\n",
    "grouped_counts = df.groupby(['Genre', 'Language']).size()\n",
    "proportions = (grouped_counts / grouped_counts.sum()).reset_index(name='proportion')\n",
    "\n",
    "# Calculate rows per group, ensuring a minimum of 1 row per group\n",
    "proportions['rows_to_take'] = (proportions['proportion'] * total_rows).round().astype(int)\n",
    "proportions['rows_to_take'] = proportions['rows_to_take'].apply(lambda x: max(1, x))\n",
    "\n",
    "# Sample rows based on proportions\n",
    "sampled_df = pd.DataFrame()\n",
    "\n",
    "for _, row in proportions.iterrows():\n",
    "    genre, language, rows_to_take = row['Genre'], row['Language'], row['rows_to_take']\n",
    "    group_sample = df[(df['Genre'] == genre) & (df['Language'] == language)].sample(n=rows_to_take, random_state=42)\n",
    "    sampled_df = pd.concat([sampled_df, group_sample])\n",
    "\n",
    "# Reset index and ensure exactly 5000 rows (in case rounding gave more)\n",
    "sampled_df = sampled_df.sample(n=30000, random_state=42).reset_index(drop=True)\n",
    "\n",
    "# Save or check the result\n",
    "print(sampled_df.head())\n",
    "sampled_df.to_csv('new_releases_sampled.csv', index=False)\n"
   ]
  },
  {
   "cell_type": "code",
   "execution_count": 2,
   "metadata": {},
   "outputs": [],
   "source": [
    "import pandas as pd\n",
    "from sklearn.feature_extraction.text import CountVectorizer\n",
    "from sklearn.metrics.pairwise import cosine_similarity\n",
    "from sklearn.model_selection import train_test_split, GridSearchCV\n",
    "from sklearn.neighbors import NearestNeighbors\n"
   ]
  },
  {
   "cell_type": "code",
   "execution_count": 3,
   "metadata": {},
   "outputs": [
    {
     "data": {
      "text/plain": [
       "Movie Name    0\n",
       "Year          0\n",
       "Genre         0\n",
       "Language      0\n",
       "dtype: int64"
      ]
     },
     "execution_count": 3,
     "metadata": {},
     "output_type": "execute_result"
    }
   ],
   "source": [
    "df = pd.read_csv('new_releases_sampled.csv')\n",
    "df.isnull().sum()\n"
   ]
  },
  {
   "cell_type": "code",
   "execution_count": 4,
   "metadata": {},
   "outputs": [],
   "source": [
    "df['features'] = df['Movie Name'] + \" \" + df['Genre'] + \" \" + df['Language']\n"
   ]
  },
  {
   "cell_type": "code",
   "execution_count": 5,
   "metadata": {},
   "outputs": [],
   "source": [
    "vectorizer = CountVectorizer(stop_words='english')\n",
    "movie_matrix = vectorizer.fit_transform(df['features'])\n"
   ]
  },
  {
   "cell_type": "code",
   "execution_count": 6,
   "metadata": {},
   "outputs": [
    {
     "data": {
      "text/plain": [
       "(30000, 30000)"
      ]
     },
     "execution_count": 6,
     "metadata": {},
     "output_type": "execute_result"
    }
   ],
   "source": [
    "cosine_sim = cosine_similarity(movie_matrix, movie_matrix)\n",
    "cosine_sim.shape\n"
   ]
  },
  {
   "cell_type": "code",
   "execution_count": 7,
   "metadata": {},
   "outputs": [],
   "source": [
    "def recommend_movie(movie_title, top_n=5):\n",
    "    # Find the index of the given movie\n",
    "    movie_idx = df[df['Movie Name'].str.lower() == movie_title.lower()].index[0]\n",
    "    \n",
    "    # Get similarity scores for the selected movie\n",
    "    similarity_scores = list(enumerate(cosine_sim[movie_idx]))\n",
    "    \n",
    "    # Sort movies by similarity score (highest first)\n",
    "    similarity_scores = sorted(similarity_scores, key=lambda x: x[1], reverse=True)\n",
    "    \n",
    "    # Get the top N most similar movies (skip the first one — it's the same movie)\n",
    "    top_movies = [df.iloc[i[0]]['Movie Name'] for i in similarity_scores[1:top_n+1]]\n",
    "    \n",
    "    return top_movies\n"
   ]
  },
  {
   "cell_type": "code",
   "execution_count": 9,
   "metadata": {},
   "outputs": [
    {
     "name": "stdout",
     "output_type": "stream",
     "text": [
      "Top 5 recommendations for 'Manam Kothi Paravai':\n",
      "['Narathan', 'Nannbenda', 'Kappal', 'Vinayakudu', 'Kandaen']\n"
     ]
    }
   ],
   "source": [
    "movie_name = \"Manam Kothi Paravai\"\n",
    "print(f\"Top 5 recommendations for '{movie_name}':\")\n",
    "print(recommend_movie(movie_name))\n"
   ]
  }
 ],
 "metadata": {
  "kernelspec": {
   "display_name": ".venv",
   "language": "python",
   "name": "python3"
  },
  "language_info": {
   "codemirror_mode": {
    "name": "ipython",
    "version": 3
   },
   "file_extension": ".py",
   "mimetype": "text/x-python",
   "name": "python",
   "nbconvert_exporter": "python",
   "pygments_lexer": "ipython3",
   "version": "3.13.0"
  }
 },
 "nbformat": 4,
 "nbformat_minor": 2
}
